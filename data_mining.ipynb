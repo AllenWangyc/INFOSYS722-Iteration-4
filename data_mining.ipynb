{
 "cells": [
  {
   "cell_type": "code",
   "execution_count": 1,
   "id": "134f049e",
   "metadata": {},
   "outputs": [
    {
     "name": "stderr",
     "output_type": "stream",
     "text": [
      "WARNING: An illegal reflective access operation has occurred\n",
      "WARNING: Illegal reflective access by org.apache.spark.unsafe.Platform (file:/home/ubuntu/spark-3.2.1-bin-hadoop2.7/jars/spark-unsafe_2.12-3.2.1.jar) to constructor java.nio.DirectByteBuffer(long,int)\n",
      "WARNING: Please consider reporting this to the maintainers of org.apache.spark.unsafe.Platform\n",
      "WARNING: Use --illegal-access=warn to enable warnings of further illegal reflective access operations\n",
      "WARNING: All illegal access operations will be denied in a future release\n",
      "Using Spark's default log4j profile: org/apache/spark/log4j-defaults.properties\n",
      "Setting default log level to \"WARN\".\n",
      "To adjust logging level use sc.setLogLevel(newLevel). For SparkR, use setLogLevel(newLevel).\n",
      "24/05/23 13:54:44 WARN NativeCodeLoader: Unable to load native-hadoop library for your platform... using builtin-java classes where applicable\n"
     ]
    }
   ],
   "source": [
    "import findspark\n",
    "findspark.init('/home/ubuntu/spark-3.2.1-bin-hadoop2.7')\n",
    "import pyspark\n",
    "from pyspark.sql import SparkSession\n",
    "spark = SparkSession.builder.appName('fifa').getOrCreate()"
   ]
  },
  {
   "cell_type": "code",
   "execution_count": 2,
   "id": "c9fe4e0d",
   "metadata": {},
   "outputs": [
    {
     "name": "stderr",
     "output_type": "stream",
     "text": [
      "                                                                                \r"
     ]
    }
   ],
   "source": [
    "df = spark.read.csv('fifa_players.csv', header=True, inferSchema=True)"
   ]
  },
  {
   "cell_type": "code",
   "execution_count": 3,
   "id": "ee7628e3",
   "metadata": {},
   "outputs": [
    {
     "name": "stderr",
     "output_type": "stream",
     "text": [
      "24/05/23 13:54:56 WARN package: Truncated the string representation of a plan since it was too large. This behavior can be adjusted by setting 'spark.sql.debug.maxToStringFields'.\n"
     ]
    },
    {
     "name": "stdout",
     "output_type": "stream",
     "text": [
      "+---------------+--------------------+----------+---+---------+----------+-----------+--------------+---------+----------+---------+--------------+-----------------------------+--------------+----------------+---------+-------------------+-------------+---------------+----------------------+----------------------+--------+---------+----------------+-------------+-------+---------+-----+-----------------+------------+------------+------------+------------+-------+---------+-------+----------+-------+-------+--------+----------+----------+-------------+-----------+------+---------+---------+-------+---------------+--------------+\n",
      "|           name|           full_name|birth_date|age|height_cm|weight_kgs|nationality|overall_rating|potential|value_euro|wage_euro|preferred_foot|international_reputation(1-5)|weak_foot(1-5)|skill_moves(1-5)|body_type|release_clause_euro|national_team|national_rating|national_team_position|national_jersey_number|crossing|finishing|heading_accuracy|short_passing|volleys|dribbling|curve|freekick_accuracy|long_passing|ball_control|acceleration|sprint_speed|agility|reactions|balance|shot_power|jumping|stamina|strength|long_shots|aggression|interceptions|positioning|vision|penalties|composure|marking|standing_tackle|sliding_tackle|\n",
      "+---------------+--------------------+----------+---+---------+----------+-----------+--------------+---------+----------+---------+--------------+-----------------------------+--------------+----------------+---------+-------------------+-------------+---------------+----------------------+----------------------+--------+---------+----------------+-------------+-------+---------+-----+-----------------+------------+------------+------------+------------+-------+---------+-------+----------+-------+-------+--------+----------+----------+-------------+-----------+------+---------+---------+-------+---------------+--------------+\n",
      "|       L. Messi|Lionel Andrés Mes...| 6/24/1987| 31|   170.18|      72.1|  Argentina|            94|       94| 110500000|   565000|          Left|                            5|             4|               4|   Normal|          226500000|    Argentina|             82|                    RF|                    10|      86|       95|              70|           92|     86|       97|   93|               94|          89|          96|          91|          86|     93|       95|     95|        85|     68|     72|      66|        94|        48|           22|         94|    94|       75|       96|     33|             28|            26|\n",
      "|     C. Eriksen|Christian  Dannem...| 2/14/1992| 27|   154.94|      76.2|    Denmark|            88|       89|  69500000|   205000|         Right|                            3|             5|               4|     Lean|          133800000|      Denmark|             78|                   CAM|                    10|      88|       81|              52|           91|     80|       84|   86|               87|          89|          91|          76|          73|     80|       88|     81|        84|     50|     92|      58|        89|        46|           56|         84|    91|       67|       88|     59|             57|            22|\n",
      "|       P. Pogba|          Paul Pogba| 3/15/1993| 25|    190.5|      83.9|     France|            88|       91|  73000000|   255000|         Right|                            4|             4|               5|   Normal|          144200000|       France|             84|                   RDM|                     6|      80|       75|              75|           86|     85|       87|   85|               82|          90|          90|          71|          79|     76|       82|     66|        90|     83|     88|      87|        82|        78|           64|         82|    88|       82|       87|     63|             67|            67|\n",
      "|     L. Insigne|     Lorenzo Insigne|  6/4/1991| 27|   162.56|      59.0|      Italy|            88|       88|  62000000|   165000|         Right|                            3|             4|               4|   Normal|          105400000|        Italy|             83|                    LW|                    10|      86|       77|              56|           85|     74|       90|   87|               77|          78|          93|          94|          86|     94|       83|     93|        75|     53|     75|      44|        84|        34|           26|         83|    87|       61|       83|     51|             24|            22|\n",
      "|   K. Koulibaly|   Kalidou Koulibaly| 6/20/1991| 27|   187.96|      88.9|    Senegal|            88|       91|  60000000|   135000|         Right|                            3|             3|               2|   Normal|          106500000|         null|           null|                  null|                  null|      30|       22|              83|           68|     14|       69|   28|               28|          60|          63|          70|          75|     50|       82|     40|        55|     81|     75|      94|        15|        87|           88|         24|    49|       33|       80|     91|             88|            87|\n",
      "|    V. van Dijk|     Virgil van Dijk|  7/8/1991| 27|   193.04|      92.1|Netherlands|            88|       90|  59500000|   215000|         Right|                            3|             3|               2|   Normal|          114500000|  Netherlands|             81|                   LCB|                     4|      53|       52|              83|           79|     45|       70|   60|               70|          81|          76|          74|          77|     61|       87|     49|        81|     88|     75|      92|        64|        82|           88|         41|    60|       62|       87|     90|             89|            84|\n",
      "|      K. Mbappé|       Kylian Mbappé|12/20/1998|120|    152.4|      73.0|     France|            88|       95|  81000000|   100000|         Right|                            3|             4|               5|     Lean|          166100000|       France|             84|                    RM|                    10|      77|       88|              77|           82|     78|       90|   77|               63|          73|          91|          96|          96|     92|       87|     83|        79|     75|     83|      71|        78|        62|           38|         88|    82|       70|       86|     34|             34|            32|\n",
      "|      S. Agüero|Sergio Leonel Agü...|  6/2/1988| 30|   172.72|      69.9|  Argentina|            89|       89|  64500000|   300000|         Right|                            4|             4|               4|   Stocky|          119300000|    Argentina|             82|                   SUB|                    11|      70|       93|              77|           81|     85|       89|   82|               73|          64|          89|          88|          80|     86|       90|     91|        88|     81|     76|      73|        83|        65|           24|         92|    83|       83|       90|     30|             20|            12|\n",
      "|       M. Neuer|        Manuel Neuer| 3/27/1986| 32|   193.04|      92.1|    Germany|            89|       89|  38000000|   130000|         Right|                            5|             4|               1|   Normal|           62700000|      Germany|             85|                    GK|                     1|      15|       13|              25|           55|     11|       30|   14|               11|          59|          46|          54|          60|     51|       84|     35|        25|     77|     43|      80|        16|        29|           30|         12|    70|       47|       70|     17|             10|            11|\n",
      "|      E. Cavani|Edinson Roberto C...| 2/14/1987| 32|   185.42|      77.1|    Uruguay|            89|       89|  60000000|   200000|         Right|                            4|             4|               3|     Lean|          111000000|      Uruguay|             81|                    LS|                    21|      70|       89|              89|           78|     90|       80|   77|               76|          52|          82|          75|          76|     77|       91|     59|        87|     88|     92|      78|        79|        84|           48|         93|    77|       85|       82|     52|             45|            39|\n",
      "|Sergio Busquets|Sergio Busquets i...| 7/16/1988| 30|   187.96|      76.2|      Spain|            89|       89|  51500000|   315000|         Right|                            4|             3|               3|     Lean|          105600000|        Spain|             85|                   CDM|                     5|      62|       67|              68|           89|     44|       80|   66|               68|          82|          88|          50|          52|     66|       87|     52|        61|     66|     86|      77|        54|        85|           87|         77|    87|       60|       93|     90|             86|            80|\n",
      "|  M. ter Stegen|Marc-André ter St...| 4/30/1992| 26|   187.96|      84.8|    Germany|            89|       92|  58000000|   240000|         Right|                            3|             4|               1|   Normal|          123300000|      Germany|             85|                   SUB|                    22|      18|       14|              11|           42|     14|       17|   18|               12|          47|          18|          38|          50|     37|       86|     43|        22|     79|     35|      78|        10|        43|           22|         11|    70|       25|       70|     25|             13|            10|\n",
      "|   A. Griezmann|   Antoine Griezmann| 3/21/1991| 27|   175.26|      73.0|     France|            89|       90|  78000000|   145000|          Left|                            4|             3|               4|     Lean|          165800000|       France|             84|                   CAM|                     7|      82|       89|              84|           84|     87|       87|   86|               84|          78|          90|          88|          85|     90|       90|     82|        82|     90|     86|      62|        82|        73|           49|         91|    85|       83|       89|     59|             54|            48|\n",
      "|      P. Dybala|Paulo Bruno Exequ...|11/15/1993| 25|    152.4|      74.8|  Argentina|            89|       94|  89000000|   205000|          Left|                            3|             3|               4|   Normal|          153500000|    Argentina|             82|                    LF|                    21|      82|       84|              68|           87|     88|       92|   88|               88|          75|          92|          87|          83|     91|       86|     85|        82|     75|     80|      65|        88|        48|           32|         84|    87|       86|       84|     23|             20|            20|\n",
      "|    M. Škriniar|      Milan Škriniar| 2/11/1995| 24|   187.96|      79.8|   Slovakia|            86|       93|  53500000|    89000|         Right|                            1|             4|               2|   Normal|          101700000|         null|           null|                  null|                  null|      40|       42|              82|           73|     40|       59|   34|               30|          69|          67|          70|          73|     48|       83|     51|        50|     78|     77|      85|        30|        86|           86|         30|    57|       56|       81|     92|             89|            84|\n",
      "|    Fernandinho|  Fernando Luiz Rosa|  5/4/1985| 33|    152.4|      67.1|     Brazil|            87|       87|  20500000|   200000|         Right|                            3|             4|               3|     Lean|           37900000|         null|           null|                  null|                  null|      68|       69|              66|           85|     74|       77|   70|               72|          83|          82|          68|          67|     72|       89|     78|        83|     78|     84|      76|        78|        87|           89|         70|    75|       61|       79|     87|             86|            80|\n",
      "|     G. Higuaín|Gonzalo Gerardo H...|12/10/1987| 31|   185.42|      88.9|  Argentina|            87|       87|  48500000|   205000|         Right|                            4|             4|               3|   Normal|               null|         null|           null|                  null|                  null|      68|       91|              79|           74|     88|       83|   74|               62|          59|          84|          70|          72|     75|       86|     69|        86|     79|     70|      85|        80|        50|           20|         92|    74|       70|       86|     35|             22|            18|\n",
      "|     I. Rakitić|        Ivan Rakitić| 3/10/1988| 30|   182.88|      78.0|    Croatia|            87|       87|  46500000|   260000|         Right|                            4|             4|               3|     Lean|           95300000|         null|           null|                  null|                  null|      84|       79|              59|           87|     84|       82|   88|               82|          90|          85|          66|          62|     73|       80|     66|        84|     39|     83|      71|        87|        67|           81|         80|    86|       82|       86|     76|             75|            73|\n",
      "|  J. Vertonghen|      Jan Vertonghen| 4/24/1987| 31|   187.96|      86.2|    Belgium|            87|       87|  34000000|   155000|          Left|                            3|             3|               3|   Normal|           62900000|      Belgium|             85|                   LCB|                     5|      72|       56|              80|           79|     52|       71|   63|               73|          74|          77|          61|          65|     61|       85|     60|        80|     85|     75|      79|        66|        84|           89|         60|    68|       66|       83|     89|             87|            88|\n",
      "|     D. Mertens|       Dries Mertens|  5/6/1987| 31|   170.18|      60.8|    Belgium|            87|       87|  45000000|   135000|         Right|                            3|             4|               4|   Normal|           76500000|      Belgium|             85|                    RF|                    14|      77|       86|              35|           82|     70|       91|   82|               79|          74|          89|          93|          85|     94|       88|     92|        80|     60|     75|      42|        81|        59|           36|         87|    83|       79|       81|     25|             40|            40|\n",
      "+---------------+--------------------+----------+---+---------+----------+-----------+--------------+---------+----------+---------+--------------+-----------------------------+--------------+----------------+---------+-------------------+-------------+---------------+----------------------+----------------------+--------+---------+----------------+-------------+-------+---------+-----+-----------------+------------+------------+------------+------------+-------+---------+-------+----------+-------+-------+--------+----------+----------+-------------+-----------+------+---------+---------+-------+---------------+--------------+\n",
      "only showing top 20 rows\n",
      "\n"
     ]
    }
   ],
   "source": [
    "df.show()"
   ]
  },
  {
   "cell_type": "code",
   "execution_count": 4,
   "id": "48d984e4",
   "metadata": {},
   "outputs": [
    {
     "name": "stdout",
     "output_type": "stream",
     "text": [
      "+------------+--------------------+----------+---+---------+----------+-----------+--------------+---------+----------+---------+--------------+-----------------------------+--------------+----------------+---------+-------------------+-------------+---------------+----------------------+----------------------+--------+---------+----------------+-------------+-------+---------+-----+-----------------+------------+------------+------------+------------+-------+---------+-------+----------+-------+-------+--------+----------+----------+-------------+-----------+------+---------+---------+-------+---------------+--------------+\n",
      "|        name|           full_name|birth_date|age|height_cm|weight_kgs|nationality|overall_rating|potential|value_euro|wage_euro|preferred_foot|international_reputation(1-5)|weak_foot(1-5)|skill_moves(1-5)|body_type|release_clause_euro|national_team|national_rating|national_team_position|national_jersey_number|crossing|finishing|heading_accuracy|short_passing|volleys|dribbling|curve|freekick_accuracy|long_passing|ball_control|acceleration|sprint_speed|agility|reactions|balance|shot_power|jumping|stamina|strength|long_shots|aggression|interceptions|positioning|vision|penalties|composure|marking|standing_tackle|sliding_tackle|\n",
      "+------------+--------------------+----------+---+---------+----------+-----------+--------------+---------+----------+---------+--------------+-----------------------------+--------------+----------------+---------+-------------------+-------------+---------------+----------------------+----------------------+--------+---------+----------------+-------------+-------+---------+-----+-----------------+------------+------------+------------+------------+-------+---------+-------+----------+-------+-------+--------+----------+----------+-------------+-----------+------+---------+---------+-------+---------------+--------------+\n",
      "|    L. Messi|Lionel Andrés Mes...| 6/24/1987| 31|   170.18|      72.1|  Argentina|            94|       94| 110500000|   565000|          Left|                            5|             4|               4|   Normal|          226500000|    Argentina|             82|                    RF|                    10|      86|       95|              70|           92|     86|       97|   93|               94|          89|          96|          91|          86|     93|       95|     95|        85|     68|     72|      66|        94|        48|           22|         94|    94|       75|       96|     33|             28|            26|\n",
      "|  C. Eriksen|Christian  Dannem...| 2/14/1992| 27|   154.94|      76.2|    Denmark|            88|       89|  69500000|   205000|         Right|                            3|             5|               4|     Lean|          133800000|      Denmark|             78|                   CAM|                    10|      88|       81|              52|           91|     80|       84|   86|               87|          89|          91|          76|          73|     80|       88|     81|        84|     50|     92|      58|        89|        46|           56|         84|    91|       67|       88|     59|             57|            22|\n",
      "|    P. Pogba|          Paul Pogba| 3/15/1993| 25|    190.5|      83.9|     France|            88|       91|  73000000|   255000|         Right|                            4|             4|               5|   Normal|          144200000|       France|             84|                   RDM|                     6|      80|       75|              75|           86|     85|       87|   85|               82|          90|          90|          71|          79|     76|       82|     66|        90|     83|     88|      87|        82|        78|           64|         82|    88|       82|       87|     63|             67|            67|\n",
      "|  L. Insigne|     Lorenzo Insigne|  6/4/1991| 27|   162.56|      59.0|      Italy|            88|       88|  62000000|   165000|         Right|                            3|             4|               4|   Normal|          105400000|        Italy|             83|                    LW|                    10|      86|       77|              56|           85|     74|       90|   87|               77|          78|          93|          94|          86|     94|       83|     93|        75|     53|     75|      44|        84|        34|           26|         83|    87|       61|       83|     51|             24|            22|\n",
      "|K. Koulibaly|   Kalidou Koulibaly| 6/20/1991| 27|   187.96|      88.9|    Senegal|            88|       91|  60000000|   135000|         Right|                            3|             3|               2|   Normal|          106500000|         null|           null|                  null|                  null|      30|       22|              83|           68|     14|       69|   28|               28|          60|          63|          70|          75|     50|       82|     40|        55|     81|     75|      94|        15|        87|           88|         24|    49|       33|       80|     91|             88|            87|\n",
      "| V. van Dijk|     Virgil van Dijk|  7/8/1991| 27|   193.04|      92.1|Netherlands|            88|       90|  59500000|   215000|         Right|                            3|             3|               2|   Normal|          114500000|  Netherlands|             81|                   LCB|                     4|      53|       52|              83|           79|     45|       70|   60|               70|          81|          76|          74|          77|     61|       87|     49|        81|     88|     75|      92|        64|        82|           88|         41|    60|       62|       87|     90|             89|            84|\n",
      "|   K. Mbappé|       Kylian Mbappé|12/20/1998|120|    152.4|      73.0|     France|            88|       95|  81000000|   100000|         Right|                            3|             4|               5|     Lean|          166100000|       France|             84|                    RM|                    10|      77|       88|              77|           82|     78|       90|   77|               63|          73|          91|          96|          96|     92|       87|     83|        79|     75|     83|      71|        78|        62|           38|         88|    82|       70|       86|     34|             34|            32|\n",
      "|   S. Agüero|Sergio Leonel Agü...|  6/2/1988| 30|   172.72|      69.9|  Argentina|            89|       89|  64500000|   300000|         Right|                            4|             4|               4|   Stocky|          119300000|    Argentina|             82|                   SUB|                    11|      70|       93|              77|           81|     85|       89|   82|               73|          64|          89|          88|          80|     86|       90|     91|        88|     81|     76|      73|        83|        65|           24|         92|    83|       83|       90|     30|             20|            12|\n",
      "|    M. Neuer|        Manuel Neuer| 3/27/1986| 32|   193.04|      92.1|    Germany|            89|       89|  38000000|   130000|         Right|                            5|             4|               1|   Normal|           62700000|      Germany|             85|                    GK|                     1|      15|       13|              25|           55|     11|       30|   14|               11|          59|          46|          54|          60|     51|       84|     35|        25|     77|     43|      80|        16|        29|           30|         12|    70|       47|       70|     17|             10|            11|\n",
      "|   E. Cavani|Edinson Roberto C...| 2/14/1987| 32|   185.42|      77.1|    Uruguay|            89|       89|  60000000|   200000|         Right|                            4|             4|               3|     Lean|          111000000|      Uruguay|             81|                    LS|                    21|      70|       89|              89|           78|     90|       80|   77|               76|          52|          82|          75|          76|     77|       91|     59|        87|     88|     92|      78|        79|        84|           48|         93|    77|       85|       82|     52|             45|            39|\n",
      "+------------+--------------------+----------+---+---------+----------+-----------+--------------+---------+----------+---------+--------------+-----------------------------+--------------+----------------+---------+-------------------+-------------+---------------+----------------------+----------------------+--------+---------+----------------+-------------+-------+---------+-----+-----------------+------------+------------+------------+------------+-------+---------+-------+----------+-------+-------+--------+----------+----------+-------------+-----------+------+---------+---------+-------+---------------+--------------+\n",
      "only showing top 10 rows\n",
      "\n"
     ]
    }
   ],
   "source": [
    "df.show(10)"
   ]
  },
  {
   "cell_type": "code",
   "execution_count": 5,
   "id": "e8ae4913",
   "metadata": {},
   "outputs": [
    {
     "name": "stdout",
     "output_type": "stream",
     "text": [
      "+------------+--------------------+----------+---+---------+----------+\n",
      "|        name|           full_name|birth_date|age|height_cm|weight_kgs|\n",
      "+------------+--------------------+----------+---+---------+----------+\n",
      "|    L. Messi|Lionel Andrés Mes...| 6/24/1987| 31|   170.18|      72.1|\n",
      "|  C. Eriksen|Christian  Dannem...| 2/14/1992| 27|   154.94|      76.2|\n",
      "|    P. Pogba|          Paul Pogba| 3/15/1993| 25|    190.5|      83.9|\n",
      "|  L. Insigne|     Lorenzo Insigne|  6/4/1991| 27|   162.56|      59.0|\n",
      "|K. Koulibaly|   Kalidou Koulibaly| 6/20/1991| 27|   187.96|      88.9|\n",
      "| V. van Dijk|     Virgil van Dijk|  7/8/1991| 27|   193.04|      92.1|\n",
      "|   K. Mbappé|       Kylian Mbappé|12/20/1998|120|    152.4|      73.0|\n",
      "|   S. Agüero|Sergio Leonel Agü...|  6/2/1988| 30|   172.72|      69.9|\n",
      "|    M. Neuer|        Manuel Neuer| 3/27/1986| 32|   193.04|      92.1|\n",
      "|   E. Cavani|Edinson Roberto C...| 2/14/1987| 32|   185.42|      77.1|\n",
      "+------------+--------------------+----------+---+---------+----------+\n",
      "only showing top 10 rows\n",
      "\n"
     ]
    }
   ],
   "source": [
    "df.select(\"name\", \"full_name\", \"birth_date\", \"age\", \"height_cm\", \"weight_kgs\").show(10)"
   ]
  },
  {
   "cell_type": "code",
   "execution_count": 6,
   "id": "ddea4a1d",
   "metadata": {},
   "outputs": [
    {
     "name": "stdout",
     "output_type": "stream",
     "text": [
      "root\n",
      " |-- name: string (nullable = true)\n",
      " |-- full_name: string (nullable = true)\n",
      " |-- birth_date: string (nullable = true)\n",
      " |-- age: integer (nullable = true)\n",
      " |-- height_cm: double (nullable = true)\n",
      " |-- weight_kgs: double (nullable = true)\n",
      " |-- nationality: string (nullable = true)\n",
      " |-- overall_rating: integer (nullable = true)\n",
      " |-- potential: integer (nullable = true)\n",
      " |-- value_euro: integer (nullable = true)\n",
      " |-- wage_euro: integer (nullable = true)\n",
      " |-- preferred_foot: string (nullable = true)\n",
      " |-- international_reputation(1-5): integer (nullable = true)\n",
      " |-- weak_foot(1-5): integer (nullable = true)\n",
      " |-- skill_moves(1-5): integer (nullable = true)\n",
      " |-- body_type: string (nullable = true)\n",
      " |-- release_clause_euro: integer (nullable = true)\n",
      " |-- national_team: string (nullable = true)\n",
      " |-- national_rating: integer (nullable = true)\n",
      " |-- national_team_position: string (nullable = true)\n",
      " |-- national_jersey_number: integer (nullable = true)\n",
      " |-- crossing: integer (nullable = true)\n",
      " |-- finishing: integer (nullable = true)\n",
      " |-- heading_accuracy: integer (nullable = true)\n",
      " |-- short_passing: integer (nullable = true)\n",
      " |-- volleys: integer (nullable = true)\n",
      " |-- dribbling: integer (nullable = true)\n",
      " |-- curve: integer (nullable = true)\n",
      " |-- freekick_accuracy: integer (nullable = true)\n",
      " |-- long_passing: integer (nullable = true)\n",
      " |-- ball_control: integer (nullable = true)\n",
      " |-- acceleration: integer (nullable = true)\n",
      " |-- sprint_speed: integer (nullable = true)\n",
      " |-- agility: integer (nullable = true)\n",
      " |-- reactions: integer (nullable = true)\n",
      " |-- balance: integer (nullable = true)\n",
      " |-- shot_power: integer (nullable = true)\n",
      " |-- jumping: integer (nullable = true)\n",
      " |-- stamina: integer (nullable = true)\n",
      " |-- strength: integer (nullable = true)\n",
      " |-- long_shots: integer (nullable = true)\n",
      " |-- aggression: integer (nullable = true)\n",
      " |-- interceptions: integer (nullable = true)\n",
      " |-- positioning: integer (nullable = true)\n",
      " |-- vision: integer (nullable = true)\n",
      " |-- penalties: integer (nullable = true)\n",
      " |-- composure: integer (nullable = true)\n",
      " |-- marking: integer (nullable = true)\n",
      " |-- standing_tackle: integer (nullable = true)\n",
      " |-- sliding_tackle: integer (nullable = true)\n",
      "\n"
     ]
    }
   ],
   "source": [
    "df.printSchema()"
   ]
  },
  {
   "cell_type": "code",
   "execution_count": 7,
   "id": "4efced98",
   "metadata": {},
   "outputs": [],
   "source": [
    "from pyspark.sql.functions import format_number, col, round, mean"
   ]
  },
  {
   "cell_type": "code",
   "execution_count": 8,
   "id": "570d413a",
   "metadata": {},
   "outputs": [
    {
     "name": "stderr",
     "output_type": "stream",
     "text": [
      "                                                                                \r"
     ]
    },
    {
     "name": "stdout",
     "output_type": "stream",
     "text": [
      "+-------+-------+---------+----------+----------+\n",
      "|summary|    age|height_cm|weight_kgs|value_euro|\n",
      "+-------+-------+---------+----------+----------+\n",
      "|  count|17203.0|  17203.0|   17203.0|   16949.0|\n",
      "|   mean|  26.56|   174.97|     75.37|2527889.55|\n",
      "| stddev|   12.3|    14.04|      7.09| 5685210.6|\n",
      "|    min|  -30.0|    152.4|      49.9|   10000.0|\n",
      "|    25%|   22.0|   154.94|      69.9|  325000.0|\n",
      "|    50%|   25.0|   175.26|      74.8|  725000.0|\n",
      "|    75%|   29.0|   185.42|      79.8| 2200000.0|\n",
      "|    max|  129.0|   205.74|     107.0|   1.105E8|\n",
      "+-------+-------+---------+----------+----------+\n",
      "\n"
     ]
    }
   ],
   "source": [
    "# get initial summary_dataframe\n",
    "summary_df = df.select(\"age\", \"height_cm\", \"weight_kgs\", \"value_euro\").summary()\n",
    "\n",
    "# formatting the number value cols\n",
    "formatted_summary_df = summary_df.select(\n",
    "    col(\"summary\"),\n",
    "    round(col(\"age\"), 2).alias(\"age\"),\n",
    "    round(col(\"height_cm\"), 2).alias(\"height_cm\"),\n",
    "    round(col(\"weight_kgs\"), 2).alias(\"weight_kgs\"),\n",
    "    round(col(\"value_euro\"), 2).alias(\"value_euro\")\n",
    ")\n",
    "\n",
    "# show the formatted summary DataFrame\n",
    "formatted_summary_df.show()\n"
   ]
  },
  {
   "cell_type": "code",
   "execution_count": 9,
   "id": "d17904c0",
   "metadata": {
    "scrolled": true
   },
   "outputs": [
    {
     "name": "stderr",
     "output_type": "stream",
     "text": [
      "\r",
      "[Stage 24:>                                                         (0 + 1) / 1]\r"
     ]
    },
    {
     "name": "stdout",
     "output_type": "stream",
     "text": [
      "+-------------------+-------------------+-------------------+-------------------+--------------------+\n",
      "|              field|                age|          height_cm|         weight_kgs|          value_euro|\n",
      "+-------------------+-------------------+-------------------+-------------------+--------------------+\n",
      "|                1.0|                1.0|0.02880137083261802| 0.1073928428918498|  0.2959419853695831|\n",
      "|0.02880137083261802|0.02880137083261802|                1.0|0.49577832537441924|0.008880323496398173|\n",
      "|0.10739284289184982|0.10739284289184982| 0.4957783253744194|                1.0| 0.04154688540925685|\n",
      "| 0.2959419853695831| 0.2959419853695831|0.00888032349639817|0.04154688540925682|                 1.0|\n",
      "+-------------------+-------------------+-------------------+-------------------+--------------------+\n",
      "\n"
     ]
    },
    {
     "name": "stderr",
     "output_type": "stream",
     "text": [
      "\r",
      "                                                                                \r"
     ]
    }
   ],
   "source": [
    "# This cell is for showing the correlation between selected fields and target field\n",
    "fields = [\"age\", \"height_cm\", \"weight_kgs\", \"value_euro\"]\n",
    "\n",
    "# calculate the corr matrix\n",
    "correlation_matrix = []\n",
    "for field1 in fields:\n",
    "    correlation_row = []\n",
    "    for field2 in fields:\n",
    "        corr_value = df.stat.corr(field1, field2)\n",
    "        correlation_row.append(corr_value)\n",
    "    correlation_matrix.append(correlation_row)\n",
    "\n",
    "# transform the martrix to dataframe\n",
    "correlation_df = spark.createDataFrame(correlation_matrix, schema=fields)\n",
    "correlation_df = correlation_df.withColumn(\"field\", col(\"age\")).select(\"field\", *fields)\n",
    "\n",
    "# show the dataframe\n",
    "correlation_df.show()"
   ]
  },
  {
   "cell_type": "code",
   "execution_count": 10,
   "id": "57f0974a",
   "metadata": {
    "scrolled": false
   },
   "outputs": [
    {
     "name": "stdout",
     "output_type": "stream",
     "text": [
      "+---------+----------+\n",
      "|body_type|value_euro|\n",
      "+---------+----------+\n",
      "|     Lean| 2578519.0|\n",
      "|   Normal|2481078.46|\n",
      "|   Stocky|2671331.42|\n",
      "+---------+----------+\n",
      "\n"
     ]
    }
   ],
   "source": [
    "# select age and value_euro as a new dataframe, which is ordered by body_type\n",
    "df_order = (\n",
    "    df.select(\"body_type\", \"value_euro\")\n",
    "    .groupBy(\"body_type\")\n",
    "    .mean(\"value_euro\")\n",
    "    .withColumnRenamed(\"avg(value_euro)\", \"value_euro\")\n",
    "    .withColumn(\"value_euro\", round(col(\"value_euro\"), 2))\n",
    "    .orderBy(\"body_type\")\n",
    ")\n",
    "\n",
    "df_order.show()"
   ]
  },
  {
   "cell_type": "code",
   "execution_count": 11,
   "id": "bc7bbe83",
   "metadata": {},
   "outputs": [],
   "source": [
    "from pyspark.sql.functions import sum, when, expr\n",
    "import pandas as pd"
   ]
  },
  {
   "cell_type": "code",
   "execution_count": 12,
   "id": "7f75e06d",
   "metadata": {},
   "outputs": [
    {
     "name": "stdout",
     "output_type": "stream",
     "text": [
      "                           Column  Null Count\n",
      "0                            name           0\n",
      "1                       full_name           0\n",
      "2                      birth_date           0\n",
      "3                             age           0\n",
      "4                       height_cm           0\n",
      "5                      weight_kgs           0\n",
      "6                     nationality           0\n",
      "7                  overall_rating           0\n",
      "8                       potential           0\n",
      "9                      value_euro         254\n",
      "10                      wage_euro         245\n",
      "11                 preferred_foot           0\n",
      "12  international_reputation(1-5)           0\n",
      "13                 weak_foot(1-5)           0\n",
      "14               skill_moves(1-5)           0\n",
      "15                      body_type           0\n",
      "16            release_clause_euro        1787\n",
      "17                  national_team       16370\n",
      "18                national_rating       16369\n",
      "19         national_team_position       16369\n",
      "20         national_jersey_number       16369\n",
      "21                       crossing           0\n",
      "22                      finishing           0\n",
      "23               heading_accuracy           0\n",
      "24                  short_passing           0\n",
      "25                        volleys           0\n",
      "26                      dribbling           0\n",
      "27                          curve           0\n",
      "28              freekick_accuracy           0\n",
      "29                   long_passing           0\n",
      "30                   ball_control           0\n",
      "31                   acceleration           0\n",
      "32                   sprint_speed           0\n",
      "33                        agility           0\n",
      "34                      reactions           0\n",
      "35                        balance           0\n",
      "36                     shot_power           0\n",
      "37                        jumping           0\n",
      "38                        stamina           0\n",
      "39                       strength           0\n",
      "40                     long_shots           0\n",
      "41                     aggression           0\n",
      "42                  interceptions           0\n",
      "43                    positioning           0\n",
      "44                         vision           0\n",
      "45                      penalties           0\n",
      "46                      composure           0\n",
      "47                        marking           0\n",
      "48                standing_tackle           0\n",
      "49                 sliding_tackle           0\n"
     ]
    }
   ],
   "source": [
    "# calculate the number of null values in each cols\n",
    "null_counts = df.agg(*[sum(when(col(c).isNull(), 1).otherwise(0)).alias(c) for c in df.columns])\n",
    "\n",
    "# convert pySpark DataFrame to pandas DataFrame\n",
    "null_counts_pd = null_counts.toPandas()\n",
    "\n",
    "# improve the readability\n",
    "null_counts_transposed = null_counts_pd.transpose().reset_index()\n",
    "null_counts_transposed.columns = [\"Column\", \"Null Count\"]\n",
    "\n",
    "print(null_counts_transposed)"
   ]
  },
  {
   "cell_type": "code",
   "execution_count": 13,
   "id": "2edd289c",
   "metadata": {},
   "outputs": [
    {
     "name": "stdout",
     "output_type": "stream",
     "text": [
      "0.999 quantile: 110500000.0\n",
      "0.001 quantile: 10000.0\n",
      "Mean: 2527889.551005959\n"
     ]
    }
   ],
   "source": [
    "# calclulate quantile\n",
    "value_high = df.approxQuantile(\"value_euro\", [0.999], 0.01)[0]\n",
    "value_low = df.approxQuantile(\"value_euro\", [0.001], 0.01)[0]\n",
    "\n",
    "# calculate mean value\n",
    "value_mean = df.select(mean(\"value_euro\")).collect()[0][0]\n",
    "\n",
    "print(f\"0.999 quantile: {value_high}\")\n",
    "print(f\"0.001 quantile: {value_low}\")\n",
    "print(f\"Mean: {value_mean}\")"
   ]
  },
  {
   "cell_type": "code",
   "execution_count": 14,
   "id": "0322723a",
   "metadata": {},
   "outputs": [],
   "source": [
    "df = df.filter((df['value_euro'] < 110500000) &( df['value_euro'] > 10000))"
   ]
  },
  {
   "cell_type": "code",
   "execution_count": 15,
   "id": "74310005",
   "metadata": {},
   "outputs": [
    {
     "name": "stderr",
     "output_type": "stream",
     "text": [
      "\r",
      "[Stage 37:>                                                         (0 + 1) / 1]\r"
     ]
    },
    {
     "name": "stdout",
     "output_type": "stream",
     "text": [
      "+-------+-------+---------+----------+----------+\n",
      "|summary|    age|height_cm|weight_kgs|value_euro|\n",
      "+-------+-------+---------+----------+----------+\n",
      "|  count|16935.0|  16935.0|   16935.0|   16935.0|\n",
      "|   mean|  26.53|   174.95|     75.35|2523446.71|\n",
      "| stddev|  12.36|    14.04|      7.09|5626279.26|\n",
      "|    min|  -30.0|    152.4|      49.9|   20000.0|\n",
      "|    25%|   22.0|   154.94|      69.9|  325000.0|\n",
      "|    50%|   25.0|   175.26|      74.8|  725000.0|\n",
      "|    75%|   29.0|   185.42|      79.8| 2200000.0|\n",
      "|    max|  129.0|   205.74|     107.0|    1.08E8|\n",
      "+-------+-------+---------+----------+----------+\n",
      "\n"
     ]
    },
    {
     "name": "stderr",
     "output_type": "stream",
     "text": [
      "\r",
      "                                                                                \r"
     ]
    }
   ],
   "source": [
    "# get initial summary_dataframe\n",
    "summary_df = df.select(\"age\", \"height_cm\", \"weight_kgs\", \"value_euro\").summary()\n",
    "\n",
    "# formatting the number value cols\n",
    "formatted_summary_df = summary_df.select(\n",
    "    col(\"summary\"),\n",
    "    round(col(\"age\"), 2).alias(\"age\"),\n",
    "    round(col(\"height_cm\"), 2).alias(\"height_cm\"),\n",
    "    round(col(\"weight_kgs\"), 2).alias(\"weight_kgs\"),\n",
    "    round(col(\"value_euro\"), 2).alias(\"value_euro\")\n",
    ")\n",
    "\n",
    "# show the formatted summary DataFrame\n",
    "formatted_summary_df.show()\n"
   ]
  },
  {
   "cell_type": "code",
   "execution_count": 16,
   "id": "173a65fc",
   "metadata": {},
   "outputs": [],
   "source": [
    "import numpy as np\n",
    "import matplotlib.pyplot as plt\n",
    "import seaborn as sns\n",
    "%matplotlib inline"
   ]
  },
  {
   "cell_type": "code",
   "execution_count": 17,
   "id": "f7cc65d8",
   "metadata": {},
   "outputs": [
    {
     "data": {
      "image/png": "[encoded data removed]",
      "text/plain": [
       "<Figure size 432x288 with 1 Axes>"
      ]
     },
     "metadata": {
      "needs_background": "light"
     },
     "output_type": "display_data"
    }
   ],
   "source": [
    "ratingArr = np.array(df.select('overall_rating').collect())\n",
    "plt.hist(ratingArr)\n",
    "plt.show()"
   ]
  },
  {
   "cell_type": "code",
   "execution_count": 18,
   "id": "00d985a3",
   "metadata": {},
   "outputs": [
    {
     "data": {
      "image/png": "[encoded data removed]",
      "text/plain": [
       "<Figure size 720x432 with 1 Axes>"
      ]
     },
     "metadata": {
      "needs_background": "light"
     },
     "output_type": "display_data"
    }
   ],
   "source": [
    "# select fields\n",
    "ageFields = [\"age\", \"value_euro\"]\n",
    "\n",
    "# convert pyspark df to pandas df\n",
    "pandas_df = df.select(ageFields).toPandas()\n",
    "\n",
    "# draw cratter plot\n",
    "plt.figure(figsize=(10, 6))\n",
    "sns.scatterplot(data=pandas_df, x=\"age\", y=\"value_euro\")\n",
    "plt.title(\"Scatter Plot of Age vs Value Euro\")\n",
    "plt.xlabel(\"Age\")\n",
    "plt.ylabel(\"Value Euro\")\n",
    "plt.show()"
   ]
  },
  {
   "cell_type": "code",
   "execution_count": 19,
   "id": "0526d5b3",
   "metadata": {},
   "outputs": [
    {
     "data": {
      "image/png": "[encoded data removed]",
      "text/plain": [
       "<Figure size 720x432 with 1 Axes>"
      ]
     },
     "metadata": {
      "needs_background": "light"
     },
     "output_type": "display_data"
    }
   ],
   "source": [
    "# select fields\n",
    "ratingFields = [\"overall_rating\", \"value_euro\"]\n",
    "\n",
    "# convert pyspark df to pandas df\n",
    "pandas_df = df.select(ratingFields).toPandas()\n",
    "\n",
    "# draw cratter plot\n",
    "plt.figure(figsize=(10, 6))\n",
    "sns.scatterplot(data=pandas_df, x=\"overall_rating\", y=\"value_euro\")\n",
    "plt.title(\"Scatter Plot of overall_rating vs Value Euro\")\n",
    "plt.xlabel(\"overall_rating\")\n",
    "plt.ylabel(\"Value Euro\")\n",
    "plt.show()"
   ]
  },
  {
   "cell_type": "code",
   "execution_count": 20,
   "id": "c42cf670",
   "metadata": {},
   "outputs": [
    {
     "name": "stderr",
     "output_type": "stream",
     "text": [
      "\r",
      "[Stage 43:>                                                         (0 + 1) / 1]\r",
      "\r",
      "                                                                                \r"
     ]
    },
    {
     "name": "stdout",
     "output_type": "stream",
     "text": [
      "+-------+-------+---------+----------+----------+\n",
      "|summary|    age|height_cm|weight_kgs|value_euro|\n",
      "+-------+-------+---------+----------+----------+\n",
      "|  count|16696.0|  16696.0|   16696.0|   16696.0|\n",
      "|   mean|  25.46|   174.93|     75.33| 2337728.5|\n",
      "| stddev|   4.71|    14.04|      7.08|5298463.67|\n",
      "|    min|   17.0|    152.4|      49.9|   20000.0|\n",
      "|    25%|   22.0|   154.94|      69.9|  325000.0|\n",
      "|    50%|   25.0|   175.26|      74.8|  700000.0|\n",
      "|    75%|   29.0|   185.42|      79.8| 2100000.0|\n",
      "|    max|   46.0|   205.74|     107.0|    1.08E8|\n",
      "+-------+-------+---------+----------+----------+\n",
      "\n"
     ]
    }
   ],
   "source": [
    "df = df.filter((df['age'] > 0) &( df['age'] < 80))\n",
    "# get initial summary_dataframe\n",
    "summary_df = df.select(\"age\", \"height_cm\", \"weight_kgs\", \"value_euro\").summary()\n",
    "\n",
    "# formatting the number value cols\n",
    "formatted_summary_df = summary_df.select(\n",
    "    col(\"summary\"),\n",
    "    round(col(\"age\"), 2).alias(\"age\"),\n",
    "    round(col(\"height_cm\"), 2).alias(\"height_cm\"),\n",
    "    round(col(\"weight_kgs\"), 2).alias(\"weight_kgs\"),\n",
    "    round(col(\"value_euro\"), 2).alias(\"value_euro\")\n",
    ")\n",
    "\n",
    "# show the formatted summary DataFrame\n",
    "formatted_summary_df.show()"
   ]
  },
  {
   "cell_type": "code",
   "execution_count": 21,
   "id": "3c7ec09d",
   "metadata": {},
   "outputs": [
    {
     "data": {
      "image/png": "[encoded data removed]",
      "text/plain": [
       "<Figure size 432x288 with 1 Axes>"
      ]
     },
     "metadata": {
      "needs_background": "light"
     },
     "output_type": "display_data"
    }
   ],
   "source": [
    "ageArr = np.array(df.select('age').collect())\n",
    "plt.hist(ageArr)\n",
    "plt.show()"
   ]
  },
  {
   "cell_type": "code",
   "execution_count": 22,
   "id": "42090ca5",
   "metadata": {},
   "outputs": [
    {
     "data": {
      "image/png": "[encoded data removed]",
      "text/plain": [
       "<Figure size 432x288 with 1 Axes>"
      ]
     },
     "metadata": {
      "needs_background": "light"
     },
     "output_type": "display_data"
    }
   ],
   "source": [
    "ageArr = np.array(df.select('age').collect())\n",
    "plt.hist(ageArr)\n",
    "plt.show()"
   ]
  },
  {
   "cell_type": "code",
   "execution_count": 23,
   "id": "cba62b8b",
   "metadata": {},
   "outputs": [
    {
     "name": "stdout",
     "output_type": "stream",
     "text": [
      "                           Column  Null Count\n",
      "0                            name           0\n",
      "1                      birth_date           0\n",
      "2                             age           0\n",
      "3                       height_cm           0\n",
      "4                      weight_kgs           0\n",
      "5                  overall_rating           0\n",
      "6                       potential           0\n",
      "7                      value_euro           0\n",
      "8                       wage_euro           0\n",
      "9                  preferred_foot           0\n",
      "10  international_reputation(1-5)           0\n",
      "11                 weak_foot(1-5)           0\n",
      "12               skill_moves(1-5)           0\n",
      "13                      body_type           0\n",
      "14            release_clause_euro           0\n",
      "15         national_jersey_number           0\n",
      "16                       crossing           0\n",
      "17                      finishing           0\n",
      "18               heading_accuracy           0\n",
      "19                  short_passing           0\n",
      "20                        volleys           0\n",
      "21                      dribbling           0\n",
      "22                          curve           0\n",
      "23              freekick_accuracy           0\n",
      "24                   long_passing           0\n",
      "25                   ball_control           0\n",
      "26                   acceleration           0\n",
      "27                   sprint_speed           0\n",
      "28                        agility           0\n",
      "29                      reactions           0\n",
      "30                        balance           0\n",
      "31                     shot_power           0\n",
      "32                        jumping           0\n",
      "33                        stamina           0\n",
      "34                       strength           0\n",
      "35                     long_shots           0\n",
      "36                     aggression           0\n",
      "37                  interceptions           0\n",
      "38                    positioning           0\n",
      "39                         vision           0\n",
      "40                      penalties           0\n",
      "41                      composure           0\n",
      "42                        marking           0\n",
      "43                standing_tackle           0\n",
      "44                 sliding_tackle           0\n"
     ]
    }
   ],
   "source": [
    "df = df.drop(\"full_name\",\"nationality\",\"national_jursey_number\",\"national_team_position\",\"national_team\",\"national_rating\")\n",
    "df = df.na.drop()\n",
    "\n",
    "# calculate the number of null values in each cols\n",
    "null_counts = df.agg(*[sum(when(col(c).isNull(), 1).otherwise(0)).alias(c) for c in df.columns])\n",
    "\n",
    "# convert pySpark DataFrame to pandas DataFrame\n",
    "null_counts_pd = null_counts.toPandas()\n",
    "\n",
    "# improve the readability\n",
    "null_counts_transposed = null_counts_pd.transpose().reset_index()\n",
    "null_counts_transposed.columns = [\"Column\", \"Null Count\"]\n",
    "\n",
    "print(null_counts_transposed)"
   ]
  },
  {
   "cell_type": "code",
   "execution_count": 24,
   "id": "79fa2d81",
   "metadata": {},
   "outputs": [
    {
     "name": "stdout",
     "output_type": "stream",
     "text": [
      "+-------------+\n",
      "|     age_tier|\n",
      "+-------------+\n",
      "|Matured_young|\n",
      "|        Young|\n",
      "|Matured_young|\n",
      "|Matured_young|\n",
      "|Matured_young|\n",
      "|Matured_young|\n",
      "|Matured_young|\n",
      "|Matured_young|\n",
      "|Matured_young|\n",
      "|Matured_young|\n",
      "|        Young|\n",
      "|Matured_young|\n",
      "|Matured_young|\n",
      "|Matured_young|\n",
      "|Matured_young|\n",
      "|Matured_young|\n",
      "|Matured_young|\n",
      "|Matured_young|\n",
      "|Matured_young|\n",
      "|        Young|\n",
      "+-------------+\n",
      "only showing top 20 rows\n",
      "\n"
     ]
    }
   ],
   "source": [
    "df = df.withColumn(\n",
    "    'age_tier',\n",
    "    when(col('age') <= 25, 'Young')\n",
    "    .when((col('age') > 25) & (col('age') <= 35), 'Matured_young')\n",
    "    .otherwise('Middle_age')\n",
    ")\n",
    "\n",
    "df.select('age_tier').show()"
   ]
  },
  {
   "cell_type": "code",
   "execution_count": 25,
   "id": "640d17e2",
   "metadata": {},
   "outputs": [
    {
     "data": {
      "image/png": "[encoded data removed]",
      "text/plain": [
       "<Figure size 432x288 with 1 Axes>"
      ]
     },
     "metadata": {
      "needs_background": "light"
     },
     "output_type": "display_data"
    }
   ],
   "source": [
    "agetierArr = np.array(df.select('age_tier').collect())\n",
    "plt.hist(agetierArr)\n",
    "plt.show()"
   ]
  },
  {
   "cell_type": "code",
   "execution_count": 26,
   "id": "408869a8",
   "metadata": {},
   "outputs": [],
   "source": [
    "# create new col according to the mean value of selected clos\n",
    "df = df.withColumn('attack', (col('finishing') + col('heading_accuracy') + col('volleys') +\n",
    "                              col('freekick_accuracy') + col('shot_power') + col('long_shots') +\n",
    "                              col('aggression') + col('penalties') + col('composure')) / 9)\n",
    "\n",
    "df = df.withColumn('passing', (col('crossing') + col('short_passing') + col('long_passing') +\n",
    "                               col('vision')) / 4)\n",
    "\n",
    "df = df.withColumn('physical_quality', (col('acceleration') + col('sprint_speed') + col('reactions') +\n",
    "                                        col('balance') + col('jumping') + col('stamina') +\n",
    "                                        col('strength')) / 7)\n",
    "\n",
    "df = df.withColumn('ball_control', (col('dribbling') + col('ball_control') + col('agility')) / 3)\n",
    "\n",
    "df = df.withColumn('defending', (col('interceptions') + col('positioning') + col('marking') +\n",
    "                                 col('standing_tackle') + col('sliding_tackle')) / 5)"
   ]
  },
  {
   "cell_type": "code",
   "execution_count": 27,
   "id": "01ed8766",
   "metadata": {},
   "outputs": [
    {
     "name": "stdout",
     "output_type": "stream",
     "text": [
      "+------------------+-------+------------------+------------------+---------+\n",
      "|            attack|passing|  physical_quality|      ball_control|defending|\n",
      "+------------------+-------+------------------+------------------+---------+\n",
      "| 74.88888888888889|  89.75|              74.0|              85.0|     55.6|\n",
      "| 81.77777777777777|   86.0| 79.42857142857143| 84.33333333333333|     68.6|\n",
      "|              69.0|   84.0| 75.42857142857143| 92.33333333333333|     41.2|\n",
      "| 69.55555555555556|  68.25| 77.42857142857143|              69.0|     78.4|\n",
      "| 81.88888888888889|   74.5| 82.71428571428571|              88.0|     35.6|\n",
      "|27.444444444444443|  49.75|61.857142857142854|42.333333333333336|     16.0|\n",
      "| 84.55555555555556|  69.25| 79.85714285714286| 79.66666666666667|     55.4|\n",
      "| 66.66666666666667|   80.0| 67.14285714285714|              78.0|     84.0|\n",
      "|24.555555555555557|  44.25| 58.42857142857143|              24.0|     16.2|\n",
      "| 83.66666666666667|  82.25| 83.28571428571429|              89.0|     60.2|\n",
      "| 79.55555555555556|  82.75| 80.14285714285714| 91.66666666666667|     35.8|\n",
      "| 71.11111111111111|  73.25| 72.85714285714286| 69.66666666666667|     82.6|\n",
      "| 72.22222222222223|   79.0| 76.42857142857143| 91.33333333333333|     45.6|\n",
      "| 66.66666666666667|  73.75| 72.14285714285714| 65.66666666666667|     82.4|\n",
      "| 68.22222222222223|  80.25| 83.85714285714286| 84.66666666666667|     81.2|\n",
      "| 73.44444444444444|  83.75| 75.42857142857143|              90.0|     72.4|\n",
      "|              79.0|  60.75|              78.0|              81.0|     46.0|\n",
      "| 72.11111111111111|   82.0|              72.0|              92.0|     63.4|\n",
      "| 76.55555555555556|  59.25| 79.71428571428571|              78.0|     40.6|\n",
      "| 23.22222222222222|   37.0|49.142857142857146|22.333333333333332|     17.8|\n",
      "+------------------+-------+------------------+------------------+---------+\n",
      "only showing top 20 rows\n",
      "\n"
     ]
    }
   ],
   "source": [
    "df.select('attack','passing','physical_quality','ball_control','defending').show()"
   ]
  },
  {
   "cell_type": "code",
   "execution_count": 28,
   "id": "16811309",
   "metadata": {},
   "outputs": [
    {
     "name": "stdout",
     "output_type": "stream",
     "text": [
      "                    attack   passing  physical_quality  ball_control  \\\n",
      "attack            1.000000  0.878041          0.779497      0.894052   \n",
      "passing           0.878041  1.000000          0.770129      0.904978   \n",
      "physical_quality  0.779497  0.770129          1.000000      0.851411   \n",
      "ball_control      0.894052  0.904978          0.851411      1.000000   \n",
      "defending         0.556289  0.669188          0.597174      0.540696   \n",
      "value_euro        0.325928  0.349942          0.321386      0.292793   \n",
      "\n",
      "                  defending  value_euro  \n",
      "attack             0.556289    0.325928  \n",
      "passing            0.669188    0.349942  \n",
      "physical_quality   0.597174    0.321386  \n",
      "ball_control       0.540696    0.292793  \n",
      "defending          1.000000    0.085335  \n",
      "value_euro         0.085335    1.000000  \n"
     ]
    }
   ],
   "source": [
    "# calculate the correlation of these new features\n",
    "fields = ['attack', 'passing', 'physical_quality', 'ball_control', 'defending', 'value_euro']\n",
    "\n",
    "correlation_matrix = []\n",
    "for field1 in fields:\n",
    "    correlation_row = []\n",
    "    for field2 in fields:\n",
    "        corr_value = df.stat.corr(field1, field2)\n",
    "        correlation_row.append(corr_value)\n",
    "    correlation_matrix.append(correlation_row)\n",
    "\n",
    "correlation_df = pd.DataFrame(correlation_matrix, columns=fields, index=fields)\n",
    "print(correlation_df)"
   ]
  },
  {
   "cell_type": "code",
   "execution_count": 29,
   "id": "be733d86",
   "metadata": {},
   "outputs": [],
   "source": [
    "from pyspark.ml.regression import LinearRegression\n",
    "from pyspark.ml.linalg import Vectors, DenseVector\n",
    "from pyspark.ml.feature import VectorAssembler, OneHotEncoder, StringIndexer, PCA, ChiSqSelector\n",
    "from pyspark.ml import Pipeline\n",
    "from pyspark.ml.evaluation import RegressionEvaluator\n",
    "from pyspark.ml.stat import Correlation"
   ]
  },
  {
   "cell_type": "code",
   "execution_count": 30,
   "id": "cbac3dd0",
   "metadata": {},
   "outputs": [],
   "source": [
    "assembler = VectorAssembler(\n",
    "    inputCols=[\"attack\", \"passing\", \n",
    "               \"physical_quality\",\"ball_control\",\"defending\",\"age\",\"height_cm\",\"weight_kgs\"],\n",
    "    outputCol=\"features\")"
   ]
  },
  {
   "cell_type": "code",
   "execution_count": 31,
   "id": "0c9e0125",
   "metadata": {},
   "outputs": [],
   "source": [
    "output = assembler.transform(df)"
   ]
  },
  {
   "cell_type": "code",
   "execution_count": 32,
   "id": "36d1612d",
   "metadata": {},
   "outputs": [
    {
     "name": "stdout",
     "output_type": "stream",
     "text": [
      "root\n",
      " |-- name: string (nullable = true)\n",
      " |-- birth_date: string (nullable = true)\n",
      " |-- age: integer (nullable = true)\n",
      " |-- height_cm: double (nullable = true)\n",
      " |-- weight_kgs: double (nullable = true)\n",
      " |-- overall_rating: integer (nullable = true)\n",
      " |-- potential: integer (nullable = true)\n",
      " |-- value_euro: integer (nullable = true)\n",
      " |-- wage_euro: integer (nullable = true)\n",
      " |-- preferred_foot: string (nullable = true)\n",
      " |-- international_reputation(1-5): integer (nullable = true)\n",
      " |-- weak_foot(1-5): integer (nullable = true)\n",
      " |-- skill_moves(1-5): integer (nullable = true)\n",
      " |-- body_type: string (nullable = true)\n",
      " |-- release_clause_euro: integer (nullable = true)\n",
      " |-- national_jersey_number: integer (nullable = true)\n",
      " |-- crossing: integer (nullable = true)\n",
      " |-- finishing: integer (nullable = true)\n",
      " |-- heading_accuracy: integer (nullable = true)\n",
      " |-- short_passing: integer (nullable = true)\n",
      " |-- volleys: integer (nullable = true)\n",
      " |-- dribbling: integer (nullable = true)\n",
      " |-- curve: integer (nullable = true)\n",
      " |-- freekick_accuracy: integer (nullable = true)\n",
      " |-- long_passing: integer (nullable = true)\n",
      " |-- ball_control: double (nullable = true)\n",
      " |-- acceleration: integer (nullable = true)\n",
      " |-- sprint_speed: integer (nullable = true)\n",
      " |-- agility: integer (nullable = true)\n",
      " |-- reactions: integer (nullable = true)\n",
      " |-- balance: integer (nullable = true)\n",
      " |-- shot_power: integer (nullable = true)\n",
      " |-- jumping: integer (nullable = true)\n",
      " |-- stamina: integer (nullable = true)\n",
      " |-- strength: integer (nullable = true)\n",
      " |-- long_shots: integer (nullable = true)\n",
      " |-- aggression: integer (nullable = true)\n",
      " |-- interceptions: integer (nullable = true)\n",
      " |-- positioning: integer (nullable = true)\n",
      " |-- vision: integer (nullable = true)\n",
      " |-- penalties: integer (nullable = true)\n",
      " |-- composure: integer (nullable = true)\n",
      " |-- marking: integer (nullable = true)\n",
      " |-- standing_tackle: integer (nullable = true)\n",
      " |-- sliding_tackle: integer (nullable = true)\n",
      " |-- age_tier: string (nullable = false)\n",
      " |-- attack: double (nullable = true)\n",
      " |-- passing: double (nullable = true)\n",
      " |-- physical_quality: double (nullable = true)\n",
      " |-- defending: double (nullable = true)\n",
      " |-- features: vector (nullable = true)\n",
      "\n"
     ]
    },
    {
     "data": {
      "text/plain": [
       "[Row(name='C. Eriksen', birth_date='2/14/1992', age=27, height_cm=154.94, weight_kgs=76.2, overall_rating=88, potential=89, value_euro=69500000, wage_euro=205000, preferred_foot='Right', international_reputation(1-5)=3, weak_foot(1-5)=5, skill_moves(1-5)=4, body_type='Lean', release_clause_euro=133800000, national_jersey_number=10, crossing=88, finishing=81, heading_accuracy=52, short_passing=91, volleys=80, dribbling=84, curve=86, freekick_accuracy=87, long_passing=89, ball_control=85.0, acceleration=76, sprint_speed=73, agility=80, reactions=88, balance=81, shot_power=84, jumping=50, stamina=92, strength=58, long_shots=89, aggression=46, interceptions=56, positioning=84, vision=91, penalties=67, composure=88, marking=59, standing_tackle=57, sliding_tackle=22, age_tier='Matured_young', attack=74.88888888888889, passing=89.75, physical_quality=74.0, defending=55.6, features=DenseVector([74.8889, 89.75, 74.0, 85.0, 55.6, 27.0, 154.94, 76.2]))]"
      ]
     },
     "execution_count": 32,
     "metadata": {},
     "output_type": "execute_result"
    }
   ],
   "source": [
    "output.printSchema()\n",
    "output.head(1)"
   ]
  },
  {
   "cell_type": "code",
   "execution_count": 33,
   "id": "0448d6ab",
   "metadata": {},
   "outputs": [
    {
     "name": "stdout",
     "output_type": "stream",
     "text": [
      "+--------------------+----------+\n",
      "|            features|value_euro|\n",
      "+--------------------+----------+\n",
      "|[74.8888888888888...|  69500000|\n",
      "|[81.7777777777777...|  73000000|\n",
      "|[69.0,84.0,75.428...|  62000000|\n",
      "|[69.5555555555555...|  59500000|\n",
      "|[81.8888888888888...|  64500000|\n",
      "|[27.4444444444444...|  38000000|\n",
      "|[84.5555555555555...|  60000000|\n",
      "|[66.6666666666666...|  51500000|\n",
      "|[24.5555555555555...|  58000000|\n",
      "|[83.6666666666666...|  78000000|\n",
      "|[79.5555555555555...|  89000000|\n",
      "|[71.1111111111111...|  34000000|\n",
      "|[72.2222222222222...|  45000000|\n",
      "|[66.6666666666666...|  44000000|\n",
      "|[68.2222222222222...|  38000000|\n",
      "|[73.4444444444444...|  51500000|\n",
      "|[79.0,60.75,78.0,...|  52000000|\n",
      "|[72.1111111111111...|  62500000|\n",
      "|[76.5555555555555...|  64500000|\n",
      "|[23.2222222222222...|  31000000|\n",
      "+--------------------+----------+\n",
      "only showing top 20 rows\n",
      "\n"
     ]
    }
   ],
   "source": [
    "final_data = output.select(\"features\",'value_euro')\n",
    "final_data.show()"
   ]
  },
  {
   "cell_type": "code",
   "execution_count": 34,
   "id": "f5c92ca5",
   "metadata": {},
   "outputs": [],
   "source": [
    "train_data,test_data = final_data.randomSplit([0.8,0.2])"
   ]
  },
  {
   "cell_type": "code",
   "execution_count": 35,
   "id": "dd5afa0c",
   "metadata": {},
   "outputs": [
    {
     "name": "stderr",
     "output_type": "stream",
     "text": [
      "                                                                                \r"
     ]
    },
    {
     "name": "stdout",
     "output_type": "stream",
     "text": [
      "+-------+--------------------+\n",
      "|summary|          value_euro|\n",
      "+-------+--------------------+\n",
      "|  count|                 555|\n",
      "|   mean|1.1288531531531531E7|\n",
      "| stddev|1.5146170381220603E7|\n",
      "|    min|              240000|\n",
      "|    max|            96500000|\n",
      "+-------+--------------------+\n",
      "\n",
      "+-------+--------------------+\n",
      "|summary|          value_euro|\n",
      "+-------+--------------------+\n",
      "|  count|                 145|\n",
      "|   mean|1.3877379310344828E7|\n",
      "| stddev|1.7623208932662945E7|\n",
      "|    min|              220000|\n",
      "|    max|           108000000|\n",
      "+-------+--------------------+\n",
      "\n"
     ]
    }
   ],
   "source": [
    "train_data.describe().show()\n",
    "\n",
    "test_data.describe().show()"
   ]
  },
  {
   "cell_type": "code",
   "execution_count": 36,
   "id": "c0a9cacd",
   "metadata": {},
   "outputs": [],
   "source": [
    "lr = LinearRegression(labelCol='value_euro')"
   ]
  },
  {
   "cell_type": "code",
   "execution_count": 37,
   "id": "3a0d85f4",
   "metadata": {},
   "outputs": [
    {
     "name": "stderr",
     "output_type": "stream",
     "text": [
      "24/05/23 13:55:43 WARN Instrumentation: [3de155ad] regParam is zero, which might cause numerical instability and overfitting.\n",
      "24/05/23 13:55:44 WARN InstanceBuilder$NativeBLAS: Failed to load implementation from:dev.ludovic.netlib.blas.JNIBLAS\n",
      "24/05/23 13:55:44 WARN InstanceBuilder$NativeBLAS: Failed to load implementation from:dev.ludovic.netlib.blas.ForeignLinkerBLAS\n",
      "24/05/23 13:55:44 WARN InstanceBuilder$NativeLAPACK: Failed to load implementation from:dev.ludovic.netlib.lapack.JNILAPACK\n",
      "                                                                                \r"
     ]
    }
   ],
   "source": [
    "r1 = lr.fit(train_data)"
   ]
  },
  {
   "cell_type": "code",
   "execution_count": 38,
   "id": "3938029a",
   "metadata": {},
   "outputs": [
    {
     "name": "stdout",
     "output_type": "stream",
     "text": [
      "Coefficients: [44817.71491402853,861074.6582587569,1031332.982000142,-545313.8161534021,-347184.3439577721,-176642.8519593128,171913.37233013514,325304.16215724073] Intercept: -112597778.17607722\n"
     ]
    }
   ],
   "source": [
    "print(\"Coefficients: {} Intercept: {}\".format(r1.coefficients,r1.intercept))"
   ]
  },
  {
   "cell_type": "code",
   "execution_count": 39,
   "id": "d8deaa0d",
   "metadata": {},
   "outputs": [],
   "source": [
    "test_results = r1.evaluate(test_data)"
   ]
  },
  {
   "cell_type": "code",
   "execution_count": 40,
   "id": "440cd93f",
   "metadata": {},
   "outputs": [
    {
     "name": "stderr",
     "output_type": "stream",
     "text": [
      "/home/ubuntu/spark-3.2.1-bin-hadoop2.7/python/pyspark/sql/context.py:125: FutureWarning: Deprecated in 3.0.0. Use SparkSession.builder.getOrCreate() instead.\n",
      "  warnings.warn(\n"
     ]
    },
    {
     "name": "stdout",
     "output_type": "stream",
     "text": [
      "+--------------------+\n",
      "|           residuals|\n",
      "+--------------------+\n",
      "|1.3541941949437365E7|\n",
      "| 1.693511978980747E7|\n",
      "|   8157823.104149088|\n",
      "|  -2271780.723725468|\n",
      "| 2.087624315938452E7|\n",
      "|1.0004992623908669E7|\n",
      "|1.0450524226102054E7|\n",
      "| -155714.36880996823|\n",
      "|1.2871068683627903E7|\n",
      "| -4510312.9400114715|\n",
      "|   7085455.176347107|\n",
      "|   7810438.671514377|\n",
      "|   8438452.551853895|\n",
      "| -1800278.2299635857|\n",
      "|  -7762971.001552239|\n",
      "|2.3551358231694818E7|\n",
      "| -2484502.2401013523|\n",
      "|   2416605.691911027|\n",
      "|5.6537165486500695E7|\n",
      "|-1.03581847102204...|\n",
      "+--------------------+\n",
      "only showing top 20 rows\n",
      "\n",
      "RSME: 15781804.338790486\n"
     ]
    }
   ],
   "source": [
    "test_results.residuals.show()\n",
    "\n",
    "print(\"RSME: {}\".format(test_results.rootMeanSquaredError))"
   ]
  },
  {
   "cell_type": "code",
   "execution_count": 41,
   "id": "2844bd1a",
   "metadata": {},
   "outputs": [
    {
     "name": "stdout",
     "output_type": "stream",
     "text": [
      "R2: 0.19248827025167903\n"
     ]
    }
   ],
   "source": [
    "print(\"R2: {}\".format(test_results.r2))"
   ]
  },
  {
   "cell_type": "code",
   "execution_count": 42,
   "id": "73b45c0c",
   "metadata": {},
   "outputs": [],
   "source": [
    "# feature engineering\n",
    "string_indexer = StringIndexer(inputCol=\"age_tier\", outputCol=\"age_tier_index\")\n",
    "onehot_encoder = OneHotEncoder(inputCol=\"age_tier_index\", outputCol=\"age_tier_ohe\")"
   ]
  },
  {
   "cell_type": "code",
   "execution_count": 43,
   "id": "a51b0f92",
   "metadata": {},
   "outputs": [],
   "source": [
    "# select features\n",
    "feature_columns = ['attack', 'passing', 'physical_quality', 'ball_control', 'defending', 'overall_rating', 'age_tier_ohe']\n",
    "assembler = VectorAssembler(inputCols=feature_columns, outputCol=\"features\")"
   ]
  },
  {
   "cell_type": "code",
   "execution_count": 44,
   "id": "8ba2fb87",
   "metadata": {},
   "outputs": [],
   "source": [
    "lr = LinearRegression(featuresCol='features', labelCol='value_euro')"
   ]
  },
  {
   "cell_type": "code",
   "execution_count": 45,
   "id": "fe43795f",
   "metadata": {},
   "outputs": [],
   "source": [
    "pipeline = Pipeline(stages=[string_indexer, onehot_encoder, assembler, lr])"
   ]
  },
  {
   "cell_type": "code",
   "execution_count": 46,
   "id": "ff203ba0",
   "metadata": {},
   "outputs": [],
   "source": [
    "train_data, test_data = df.randomSplit([0.8, 0.2], seed=42)"
   ]
  },
  {
   "cell_type": "code",
   "execution_count": 47,
   "id": "e571b4dd",
   "metadata": {},
   "outputs": [
    {
     "name": "stderr",
     "output_type": "stream",
     "text": [
      "24/05/23 13:55:49 WARN Instrumentation: [859a92ba] regParam is zero, which might cause numerical instability and overfitting.\n"
     ]
    }
   ],
   "source": [
    "r2 = pipeline.fit(train_data)"
   ]
  },
  {
   "cell_type": "code",
   "execution_count": 48,
   "id": "b38fe96a",
   "metadata": {},
   "outputs": [],
   "source": [
    "predictions = r2.transform(test_data)"
   ]
  },
  {
   "cell_type": "code",
   "execution_count": 49,
   "id": "d73af9ac",
   "metadata": {},
   "outputs": [
    {
     "name": "stdout",
     "output_type": "stream",
     "text": [
      "R^2 on test data = 0.7192324867526704\n"
     ]
    }
   ],
   "source": [
    "# evaluating\n",
    "evaluator = RegressionEvaluator(labelCol=\"value_euro\", predictionCol=\"prediction\", metricName=\"r2\")\n",
    "r_squared = evaluator.evaluate(predictions)\n",
    "\n",
    "print(f\"R^2 on test data = {r_squared}\")"
   ]
  },
  {
   "cell_type": "code",
   "execution_count": 50,
   "id": "003cf227",
   "metadata": {},
   "outputs": [
    {
     "name": "stderr",
     "output_type": "stream",
     "text": [
      "24/05/23 13:55:55 WARN LAPACK: Failed to load implementation from: com.github.fommil.netlib.NativeSystemLAPACK\n",
      "24/05/23 13:55:55 WARN LAPACK: Failed to load implementation from: com.github.fommil.netlib.NativeRefLAPACK\n",
      "24/05/23 13:55:56 WARN Instrumentation: [f3ff649b] regParam is zero, which might cause numerical instability and overfitting.\n"
     ]
    },
    {
     "name": "stdout",
     "output_type": "stream",
     "text": [
      "R^2 on test data = 0.09509139087822793\n"
     ]
    }
   ],
   "source": [
    "# r3\n",
    "# apply PCA\n",
    "pca = PCA(k=2, inputCol=\"features\", outputCol=\"pca_features\")\n",
    "pipeline = Pipeline(stages=[string_indexer, onehot_encoder, assembler, pca])\n",
    "train_data, test_data = df.randomSplit([0.8, 0.2], seed=42)\n",
    "model = pipeline.fit(train_data)\n",
    "transformed_data = model.transform(test_data)\n",
    "\n",
    "# extract PCA result\n",
    "projected_data = transformed_data.select(\"pca_features\", \"value_euro\")\n",
    "\n",
    "# LR with PCA\n",
    "lr = LinearRegression(featuresCol='pca_features', labelCol='value_euro')\n",
    "\n",
    "# training LR model\n",
    "r3 = lr.fit(projected_data)\n",
    "\n",
    "# predicting\n",
    "predictions = r3.transform(projected_data)\n",
    "\n",
    "# estimating model\n",
    "evaluator = RegressionEvaluator(labelCol=\"value_euro\", predictionCol=\"prediction\", metricName=\"r2\")\n",
    "r_squared = evaluator.evaluate(predictions)\n",
    "\n",
    "print(f\"R^2 on test data = {r_squared}\")"
   ]
  },
  {
   "cell_type": "code",
   "execution_count": 51,
   "id": "f6b902f4",
   "metadata": {
    "scrolled": true
   },
   "outputs": [
    {
     "name": "stderr",
     "output_type": "stream",
     "text": [
      "24/05/23 13:55:58 WARN Instrumentation: [566bff49] regParam is zero, which might cause numerical instability and overfitting.\n"
     ]
    },
    {
     "name": "stdout",
     "output_type": "stream",
     "text": [
      "[7 6 5 3 0]\n",
      "['attack', 'passing', 'physical_quality', 'ball_control', 'defending', 'overall_rating', 'age_tier_ohe']\n"
     ]
    }
   ],
   "source": [
    "pipeline = Pipeline(stages=[string_indexer, onehot_encoder, assembler])\n",
    "transformed_data = model.transform(train_data)\n",
    "lr = LinearRegression(featuresCol='features', labelCol='value_euro')\n",
    "lr_model = lr.fit(transformed_data)\n",
    "\n",
    "# extract the importance of features\n",
    "feature_importances = lr_model.coefficients.toArray()\n",
    "\n",
    "# select top 5 important features\n",
    "k = 5\n",
    "top_k_features_indices = feature_importances.argsort()[-k:][::-1]\n",
    "print(top_k_features_indices)\n",
    "print(feature_columns)"
   ]
  },
  {
   "cell_type": "code",
   "execution_count": 52,
   "id": "de85fe89",
   "metadata": {},
   "outputs": [
    {
     "name": "stderr",
     "output_type": "stream",
     "text": [
      "24/05/23 13:56:01 WARN Instrumentation: [377ef62b] regParam is zero, which might cause numerical instability and overfitting.\n"
     ]
    },
    {
     "name": "stdout",
     "output_type": "stream",
     "text": [
      "R^2 on test data = 0.7210372582948545\n"
     ]
    }
   ],
   "source": [
    "# r4\n",
    "string_indexer = StringIndexer(inputCol=\"age_tier\", outputCol=\"age_tier_index\")\n",
    "onehot_encoder = OneHotEncoder(inputCol=\"age_tier_index\", outputCol=\"age_tier_ohe\")\n",
    "\n",
    "feature_columns = ['age_tier_ohe', 'overall_rating', 'defending', 'physical_quality', 'attack']\n",
    "assembler = VectorAssembler(inputCols=feature_columns, outputCol=\"features\")\n",
    "\n",
    "pipeline = Pipeline(stages=[string_indexer, onehot_encoder, assembler])\n",
    "\n",
    "train_data, test_data = df.randomSplit([0.8, 0.2], seed=42)\n",
    "\n",
    "pipeline_model = pipeline.fit(train_data)\n",
    "train_transformed = pipeline_model.transform(train_data)\n",
    "test_transformed = pipeline_model.transform(test_data)\n",
    "\n",
    "lr = LinearRegression(featuresCol='features', labelCol='value_euro')\n",
    "\n",
    "r4 = lr.fit(train_transformed)\n",
    "\n",
    "predictions = r4.transform(test_transformed)\n",
    "\n",
    "evaluator = RegressionEvaluator(labelCol=\"value_euro\", predictionCol=\"prediction\", metricName=\"r2\")\n",
    "evaluator = RegressionEvaluator(labelCol=\"value_euro\", predictionCol=\"prediction\", metricName=\"r2\")\n",
    "r_squared = evaluator.evaluate(predictions)\n",
    "print(f\"R^2 on test data = {r_squared}\")"
   ]
  },
  {
   "cell_type": "code",
   "execution_count": 53,
   "id": "190594f8",
   "metadata": {},
   "outputs": [],
   "source": [
    "from pyspark.sql import SparkSession\n",
    "from pyspark.sql.functions import when, col\n",
    "from pyspark.ml.feature import VectorAssembler, StringIndexer, OneHotEncoder\n",
    "from pyspark.ml.regression import LinearRegression\n",
    "from pyspark.ml.evaluation import RegressionEvaluator\n",
    "from pyspark.ml import Pipeline\n",
    "import pandas as pd\n",
    "import matplotlib.pyplot as plt\n",
    "import seaborn as sns"
   ]
  },
  {
   "cell_type": "code",
   "execution_count": 54,
   "id": "c5f454da",
   "metadata": {
    "scrolled": true
   },
   "outputs": [
    {
     "name": "stderr",
     "output_type": "stream",
     "text": [
      "24/05/23 13:56:03 WARN Instrumentation: [3e94af69] regParam is zero, which might cause numerical instability and overfitting.\n"
     ]
    },
    {
     "data": {
      "image/png": "[encoded data removed]",
      "text/plain": [
       "<Figure size 720x432 with 1 Axes>"
      ]
     },
     "metadata": {
      "needs_background": "light"
     },
     "output_type": "display_data"
    },
    {
     "data": {
      "image/png": "[encoded data removed]",
      "text/plain": [
       "<Figure size 720x432 with 1 Axes>"
      ]
     },
     "metadata": {
      "needs_background": "light"
     },
     "output_type": "display_data"
    },
    {
     "data": {
      "image/png": "[encoded data removed]",
      "text/plain": [
       "<Figure size 720x432 with 1 Axes>"
      ]
     },
     "metadata": {
      "needs_background": "light"
     },
     "output_type": "display_data"
    }
   ],
   "source": [
    "lr = LinearRegression(featuresCol='features', labelCol='value_euro')\n",
    "\n",
    "# model training\n",
    "lr_model = lr.fit(train_transformed)\n",
    "\n",
    "# predict\n",
    "predictions = lr_model.transform(test_transformed)\n",
    "\n",
    "# convert to Pandas dataframe\n",
    "predictions_pd = predictions.select(\"value_euro\", \"prediction\").toPandas()\n",
    "\n",
    "# feature importance visualization\n",
    "coefficients = lr_model.coefficients.toArray()\n",
    "intercept = lr_model.intercept\n",
    "feature_importance = pd.DataFrame(list(zip(feature_columns, coefficients)), columns=[\"Feature\", \"Coefficient\"])\n",
    "plt.figure(figsize=(10, 6))\n",
    "sns.barplot(x=\"Coefficient\", y=\"Feature\", data=feature_importance)\n",
    "plt.title(\"Feature Importance\")\n",
    "plt.show()\n",
    "\n",
    "# scatter plot\n",
    "plt.figure(figsize=(10, 6))\n",
    "sns.scatterplot(x=\"value_euro\", y=\"prediction\", data=predictions_pd)\n",
    "plt.plot([predictions_pd[\"value_euro\"].min(), predictions_pd[\"value_euro\"].max()],\n",
    "         [predictions_pd[\"value_euro\"].min(), predictions_pd[\"value_euro\"].max()], color='red', lw=2)\n",
    "plt.title(\"Actual vs Predicted\")\n",
    "plt.xlabel(\"Actual value_euro\")\n",
    "plt.ylabel(\"Predicted value_euro\")\n",
    "plt.show()\n",
    "\n",
    "# residuals\n",
    "predictions_pd[\"residuals\"] = predictions_pd[\"value_euro\"] - predictions_pd[\"prediction\"]\n",
    "plt.figure(figsize=(10, 6))\n",
    "sns.scatterplot(x=\"prediction\", y=\"residuals\", data=predictions_pd)\n",
    "plt.axhline(0, color='red', linestyle='--', lw=2)\n",
    "plt.title(\"Residuals Plot\")\n",
    "plt.xlabel(\"Predicted value_euro\")\n",
    "plt.ylabel(\"Residuals\")\n",
    "plt.show()\n"
   ]
  },
  {
   "cell_type": "code",
   "execution_count": 94,
   "id": "51de0534",
   "metadata": {},
   "outputs": [
    {
     "name": "stderr",
     "output_type": "stream",
     "text": [
      "24/05/23 14:10:55 WARN Instrumentation: [bcacbba0] regParam is zero, which might cause numerical instability and overfitting.\n"
     ]
    },
    {
     "name": "stdout",
     "output_type": "stream",
     "text": [
      "R^2 on test data = 0.7092845168429264\n"
     ]
    }
   ],
   "source": [
    "\n",
    "train_data, test_data = df.randomSplit([0.9, 0.1], seed=42)\n",
    "\n",
    "pipeline_model = pipeline.fit(train_data)\n",
    "train_transformed = pipeline_model.transform(train_data)\n",
    "test_transformed = pipeline_model.transform(test_data)\n",
    "\n",
    "lr = LinearRegression(featuresCol='features', labelCol='value_euro')\n",
    "\n",
    "r4 = lr.fit(train_transformed)\n",
    "\n",
    "predictions = r4.transform(test_transformed)\n",
    "\n",
    "evaluator = RegressionEvaluator(labelCol=\"value_euro\", predictionCol=\"prediction\", metricName=\"r2\")\n",
    "evaluator = RegressionEvaluator(labelCol=\"value_euro\", predictionCol=\"prediction\", metricName=\"r2\")\n",
    "r_squared = evaluator.evaluate(predictions)\n",
    "print(f\"R^2 on test data = {r_squared}\")"
   ]
  },
  {
   "cell_type": "code",
   "execution_count": null,
   "id": "a901ffb8",
   "metadata": {},
   "outputs": [],
   "source": []
  }
 ],
 "metadata": {
  "kernelspec": {
   "display_name": "Python 3 (ipykernel)",
   "language": "python",
   "name": "python3"
  },
  "language_info": {
   "codemirror_mode": {
    "name": "ipython",
    "version": 3
   },
   "file_extension": ".py",
   "mimetype": "text/x-python",
   "name": "python",
   "nbconvert_exporter": "python",
   "pygments_lexer": "ipython3",
   "version": "3.10.12"
  }
 },
 "nbformat": 4,
 "nbformat_minor": 5
}
